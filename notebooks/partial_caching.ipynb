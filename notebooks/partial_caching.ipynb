{
 "cells": [
  {
   "cell_type": "code",
   "execution_count": 8,
   "metadata": {},
   "outputs": [],
   "source": [
    "from cachetools import TTLCache\n",
    "\n",
    "cache = TTLCache[int, int](maxsize=100, ttl=300)"
   ]
  },
  {
   "cell_type": "code",
   "execution_count": 11,
   "metadata": {},
   "outputs": [
    {
     "name": "stdout",
     "output_type": "stream",
     "text": [
      "uncached_keys={6, 9}\n"
     ]
    },
    {
     "data": {
      "text/plain": [
       "{1: 1, 2: 4, 3: 9, 6: 36, 9: 81}"
      ]
     },
     "execution_count": 11,
     "metadata": {},
     "output_type": "execute_result"
    }
   ],
   "source": [
    "async def func_w_partial_caching(keys: set[int], beans: int):\n",
    "    uncached_keys = keys.difference(cache.keys())\n",
    "    if len(uncached_keys) == 0:\n",
    "        return {k: cache[k] for k in keys}\n",
    "    print(f\"{uncached_keys=}\")\n",
    "    uncached_dict = {k: k**2 for k in uncached_keys}\n",
    "    cache.update(uncached_dict)\n",
    "    return {k: cache[k] for k in keys}\n",
    "\n",
    "\n",
    "await func_w_partial_caching({1, 2, 3, 6, 9}, 5)"
   ]
  }
 ],
 "metadata": {
  "kernelspec": {
   "display_name": "sandbox-3A4Qvb5F-py3.12",
   "language": "python",
   "name": "python3"
  },
  "language_info": {
   "codemirror_mode": {
    "name": "ipython",
    "version": 3
   },
   "file_extension": ".py",
   "mimetype": "text/x-python",
   "name": "python",
   "nbconvert_exporter": "python",
   "pygments_lexer": "ipython3",
   "version": "3.12.1"
  }
 },
 "nbformat": 4,
 "nbformat_minor": 2
}
