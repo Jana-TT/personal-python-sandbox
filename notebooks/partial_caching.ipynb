{
 "cells": [
  {
   "cell_type": "code",
   "execution_count": 2,
   "metadata": {},
   "outputs": [],
   "source": [
    "from cachetools import TTLCache\n",
    "\n",
    "cache = TTLCache[int, int](maxsize=100, ttl=300)"
   ]
  },
  {
   "cell_type": "code",
   "execution_count": 3,
   "metadata": {},
   "outputs": [
    {
     "data": {
      "text/plain": [
       "{1: 2, 2: 4, 3: 6}"
      ]
     },
     "execution_count": 3,
     "metadata": {},
     "output_type": "execute_result"
    }
   ],
   "source": [
    "from typing import Any, Protocol\n",
    "\n",
    "from cachetools import Cache\n",
    "\n",
    "\n",
    "class AsyncCacheResolver[K, V](Protocol):\n",
    "    async def __call__(self, keys: set[K], *args, **kwargs) -> dict[K, V]:\n",
    "        ...\n",
    "\n",
    "\n",
    "def aget_partial_cache[K, V](cache: Cache[Any, Any]):\n",
    "    def decorator(func: AsyncCacheResolver[K, V]):\n",
    "        async def get_partial_cache_wrapper(keys: set[Any], *args, **kwargs):\n",
    "            uncached_keys = keys.difference(cache.keys())\n",
    "            uncached_dict = await func(uncached_keys, *args, **kwargs)\n",
    "            cache.update(uncached_dict)\n",
    "            return {k: cache[k] for k in keys}\n",
    "\n",
    "        return get_partial_cache_wrapper\n",
    "\n",
    "    return decorator\n",
    "\n",
    "\n",
    "@aget_partial_cache(cache)\n",
    "async def beans(keys: set[int], beans: int, *args, **kwargs):\n",
    "    return {k: k * 2 for k in keys}\n",
    "\n",
    "\n",
    "await beans({1, 2, 3}, 5)"
   ]
  }
 ],
 "metadata": {
  "kernelspec": {
   "display_name": "sandbox-3A4Qvb5F-py3.12",
   "language": "python",
   "name": "python3"
  },
  "language_info": {
   "codemirror_mode": {
    "name": "ipython",
    "version": 3
   },
   "file_extension": ".py",
   "mimetype": "text/x-python",
   "name": "python",
   "nbconvert_exporter": "python",
   "pygments_lexer": "ipython3",
   "version": "3.12.0"
  }
 },
 "nbformat": 4,
 "nbformat_minor": 2
}
