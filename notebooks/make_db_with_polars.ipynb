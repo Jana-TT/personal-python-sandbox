{
 "cells": [
  {
   "cell_type": "code",
   "execution_count": null,
   "metadata": {},
   "outputs": [],
   "source": [
    "import os\n",
    "\n",
    "from dotenv import load_dotenv\n",
    "\n",
    "load_dotenv()\n",
    "\n",
    "DB_URL = os.environ[\"DATABASE_URL\"]\n",
    "DB_URL"
   ]
  },
  {
   "cell_type": "code",
   "execution_count": null,
   "metadata": {},
   "outputs": [],
   "source": [
    "import polars as pl\n",
    "\n",
    "pl.Config.set_fmt_str_lengths(50)\n",
    "\n",
    "show_tables_sql = \"\"\"\n",
    "    SELECT *\n",
    "    FROM pg_catalog.pg_tables\n",
    "    WHERE schemaname != 'pg_catalog' AND \n",
    "        schemaname != 'information_schema'\n",
    "    \"\"\"\n",
    "\n",
    "pl.read_database_uri(query=show_tables_sql, uri=DB_URL, engine=\"adbc\")"
   ]
  },
  {
   "cell_type": "code",
   "execution_count": null,
   "metadata": {},
   "outputs": [],
   "source": [
    "from contextlib import asynccontextmanager\n",
    "\n",
    "import asyncpg\n",
    "\n",
    "\n",
    "async def create_pool() -> asyncpg.Pool:\n",
    "    pool = await asyncpg.create_pool(DB_URL)\n",
    "    if pool is None:\n",
    "        raise ValueError(\"Could not create connection pool\")\n",
    "    return pool\n",
    "\n",
    "\n",
    "pgpool = await create_pool()\n",
    "\n",
    "\n",
    "@asynccontextmanager\n",
    "async def lifespan():\n",
    "    yield\n",
    "    await pgpool.close()"
   ]
  },
  {
   "cell_type": "code",
   "execution_count": null,
   "metadata": {},
   "outputs": [],
   "source": [
    "items = pl.read_csv(\"../db/csvs/item.csv\").rows()\n",
    "\n",
    "await pgpool.copy_records_to_table(\"item\", records=items)"
   ]
  },
  {
   "cell_type": "code",
   "execution_count": null,
   "metadata": {},
   "outputs": [],
   "source": [
    "client = pl.read_csv(\"../db/csvs/client.csv\").with_columns(pl.col(\"dob\").cast(pl.Date))\n",
    "client"
   ]
  },
  {
   "cell_type": "code",
   "execution_count": null,
   "metadata": {},
   "outputs": [],
   "source": [
    "await pgpool.copy_records_to_table(\"client\", records=client.rows())"
   ]
  },
  {
   "cell_type": "code",
   "execution_count": null,
   "metadata": {},
   "outputs": [],
   "source": [
    "list = pl.read_csv(\"../db/csvs/list.csv\").rows()\n",
    "\n",
    "await pgpool.copy_records_to_table(\"list\", records=list)"
   ]
  },
  {
   "cell_type": "code",
   "execution_count": null,
   "metadata": {},
   "outputs": [],
   "source": [
    "item_in_list = pl.read_csv(\"../db/csvs/item_in_list.csv\").rows()\n",
    "\n",
    "await pgpool.copy_records_to_table(\"item_in_list\", records=item_in_list)"
   ]
  },
  {
   "cell_type": "code",
   "execution_count": 19,
   "metadata": {},
   "outputs": [
    {
     "data": {
      "text/plain": [
       "'CREATE TABLE'"
      ]
     },
     "execution_count": 19,
     "metadata": {},
     "output_type": "execute_result"
    }
   ],
   "source": [
    "wow = \"\"\"CREATE TABLE discount (\n",
    "    id INTEGER PRIMARY KEY,\n",
    "    multiplier NUMERIC(2,2),\n",
    "    required_amt INTEGER\n",
    ");\"\"\"\n",
    "\n",
    "await pgpool.execute(wow)"
   ]
  },
  {
   "cell_type": "code",
   "execution_count": 20,
   "metadata": {},
   "outputs": [
    {
     "data": {
      "text/plain": [
       "'COPY 4'"
      ]
     },
     "execution_count": 20,
     "metadata": {},
     "output_type": "execute_result"
    }
   ],
   "source": [
    "discount = pl.read_csv(\"../db/csvs/discount.csv\").rows()\n",
    "\n",
    "await pgpool.copy_records_to_table(\"discount\", records=discount)"
   ]
  },
  {
   "cell_type": "code",
   "execution_count": null,
   "metadata": {},
   "outputs": [],
   "source": [
    "pl.read_database_uri(\n",
    "    query=\"SELECT * FROM item\",\n",
    "    uri=DB_URL,\n",
    "    engine=\"adbc\",\n",
    "    schema_overrides={\"price\": pl.Decimal(precision=10, scale=2)},\n",
    ")"
   ]
  },
  {
   "cell_type": "code",
   "execution_count": null,
   "metadata": {},
   "outputs": [],
   "source": [
    "query = \"\"\"\n",
    "SELECT AVG(li.quantity * i.price) AS total_price \n",
    "FROM item_in_list li \n",
    "JOIN item i ON li.item_id = i.id \n",
    "GROUP BY li.list_id\n",
    "\"\"\"\n",
    "\n",
    "pl.read_database_uri(\n",
    "    query=query,\n",
    "    uri=DB_URL,\n",
    "    engine=\"adbc\",\n",
    "    schema_overrides={\"total_price\": pl.Decimal(precision=10, scale=2)},\n",
    ")"
   ]
  },
  {
   "cell_type": "code",
   "execution_count": null,
   "metadata": {},
   "outputs": [],
   "source": [
    "import polars as pl\n",
    "\n",
    "pl.Config.set_fmt_str_lengths(50)\n",
    "\n",
    "show_tables_sql = \"\"\"\n",
    "    SELECT *\n",
    "    FROM pg_catalog.pg_tables\n",
    "    WHERE schemaname != 'pg_catalog' AND \n",
    "        schemaname != 'information_schema'\n",
    "    \"\"\"\n",
    "\n",
    "pl.read_database_uri(query=show_tables_sql, uri=DB_URL, engine=\"adbc\")"
   ]
  },
  {
   "cell_type": "code",
   "execution_count": null,
   "metadata": {},
   "outputs": [],
   "source": [
    "items = pl.read_csv(\"../db/csvs/item.csv\").rows()\n",
    "\n",
    "await pgpool.copy_records_to_table(\"item\", records=items)"
   ]
  },
  {
   "cell_type": "code",
   "execution_count": null,
   "metadata": {},
   "outputs": [],
   "source": [
    "await pgpool.copy_records_to_table(\"client\", records=client.rows())"
   ]
  },
  {
   "cell_type": "code",
   "execution_count": null,
   "metadata": {},
   "outputs": [],
   "source": [
    "item_in_list = pl.read_csv(\"../db/csvs/item_in_list.csv\").rows()\n",
    "\n",
    "await pgpool.copy_records_to_table(\"item_in_list\", records=item_in_list)"
   ]
  },
  {
   "cell_type": "code",
   "execution_count": null,
   "metadata": {},
   "outputs": [],
   "source": [
    "query = \"\"\"\n",
    "SELECT AVG(li.quantity * i.price) AS total_price \n",
    "FROM item_in_list li \n",
    "JOIN item i ON li.item_id = i.id \n",
    "GROUP BY li.list_id\n",
    "\"\"\"\n",
    "\n",
    "pl.read_database_uri(\n",
    "    query=query,\n",
    "    uri=DB_URL,\n",
    "    engine=\"adbc\",\n",
    "    schema_overrides={\"total_price\": pl.Decimal(precision=10, scale=2)},\n",
    ")"
   ]
  }
 ],
 "metadata": {
  "kernelspec": {
   "display_name": ".venv",
   "language": "python",
   "name": "python3"
  },
  "language_info": {
   "codemirror_mode": {
    "name": "ipython",
    "version": 3
   },
   "file_extension": ".py",
   "mimetype": "text/x-python",
   "name": "python",
   "nbconvert_exporter": "python",
   "pygments_lexer": "ipython3",
   "version": "3.12.1"
  }
 },
 "nbformat": 4,
 "nbformat_minor": 2
}
