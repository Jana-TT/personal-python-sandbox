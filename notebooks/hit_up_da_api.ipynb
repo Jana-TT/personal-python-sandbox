{
 "cells": [
  {
   "cell_type": "code",
   "execution_count": 1,
   "metadata": {},
   "outputs": [
    {
     "name": "stdout",
     "output_type": "stream",
     "text": [
      "curl -X GET -H \"host: 127.0.0.1:8000\" -H \"accept: */*\" -H \"accept-encoding: gzip, deflate, br\" -H \"connection: keep-alive\" -H \"user-agent: python-httpx/0.26.0\" -d 'b''' http://127.0.0.1:8000/lists/666\n"
     ]
    }
   ],
   "source": [
    "import httpx\n",
    "from curlify2 import Curlify\n",
    "\n",
    "res = httpx.get(\"http://127.0.0.1:8000/lists/666\")\n",
    "curl = Curlify(res.request)\n",
    "print(curl.to_curl())"
   ]
  },
  {
   "cell_type": "code",
   "execution_count": 2,
   "metadata": {},
   "outputs": [
    {
     "data": {
      "text/plain": [
       "{'items': [{'name': 'onion', 'quantity': 12},\n",
       "  {'name': 'condoms', 'quantity': 4}]}"
      ]
     },
     "execution_count": 2,
     "metadata": {},
     "output_type": "execute_result"
    }
   ],
   "source": [
    "res_json = res.json()\n",
    "res_json"
   ]
  },
  {
   "cell_type": "code",
   "execution_count": 3,
   "metadata": {},
   "outputs": [
    {
     "data": {
      "text/html": [
       "<div><style>\n",
       ".dataframe > thead > tr,\n",
       ".dataframe > tbody > tr {\n",
       "  text-align: right;\n",
       "  white-space: pre-wrap;\n",
       "}\n",
       "</style>\n",
       "<small>shape: (3, 3)</small><table border=\"1\" class=\"dataframe\"><thead><tr><th>list_guid</th><th>route_name</th><th>oil-accum-td</th></tr><tr><td>str</td><td>str</td><td>f64</td></tr></thead><tbody><tr><td>&quot;3294fj93jjf3j&quot;</td><td>&quot;jose-route&quot;</td><td>3434.38</td></tr><tr><td>&quot;2347fjjijvfeir…</td><td>&quot;ula-route&quot;</td><td>3.4498e7</td></tr><tr><td>null</td><td>&quot;pincer-route&quot;</td><td>39.02</td></tr></tbody></table></div>"
      ],
      "text/plain": [
       "shape: (3, 3)\n",
       "┌────────────────┬──────────────┬──────────────┐\n",
       "│ list_guid      ┆ route_name   ┆ oil-accum-td │\n",
       "│ ---            ┆ ---          ┆ ---          │\n",
       "│ str            ┆ str          ┆ f64          │\n",
       "╞════════════════╪══════════════╪══════════════╡\n",
       "│ 3294fj93jjf3j  ┆ jose-route   ┆ 3434.38      │\n",
       "│ 2347fjjijvfeir ┆ ula-route    ┆ 3.4498e7     │\n",
       "│ null           ┆ pincer-route ┆ 39.02        │\n",
       "└────────────────┴──────────────┴──────────────┘"
      ]
     },
     "execution_count": 3,
     "metadata": {},
     "output_type": "execute_result"
    }
   ],
   "source": [
    "import polars as pl\n",
    "\n",
    "df = pl.DataFrame(\n",
    "    {\n",
    "        \"list_guid\": [\"3294fj93jjf3j\", \"2347fjjijvfeir\", None],\n",
    "        \"route_name\": [\"jose-route\", \"ula-route\", \"pincer-route\"],\n",
    "        \"oil-accum-td\": [3434.38, 34497874.23, 39.02],\n",
    "    }\n",
    ")\n",
    "df"
   ]
  },
  {
   "cell_type": "code",
   "execution_count": 4,
   "metadata": {},
   "outputs": [
    {
     "data": {
      "text/html": [
       "<div><style>\n",
       ".dataframe > thead > tr,\n",
       ".dataframe > tbody > tr {\n",
       "  text-align: right;\n",
       "  white-space: pre-wrap;\n",
       "}\n",
       "</style>\n",
       "<small>shape: (1, 3)</small><table border=\"1\" class=\"dataframe\"><thead><tr><th>list_guid</th><th>route_name</th><th>oil-accum-td</th></tr><tr><td>str</td><td>str</td><td>f64</td></tr></thead><tbody><tr><td>null</td><td>&quot;pincer-route&quot;</td><td>39.02</td></tr></tbody></table></div>"
      ],
      "text/plain": [
       "shape: (1, 3)\n",
       "┌───────────┬──────────────┬──────────────┐\n",
       "│ list_guid ┆ route_name   ┆ oil-accum-td │\n",
       "│ ---       ┆ ---          ┆ ---          │\n",
       "│ str       ┆ str          ┆ f64          │\n",
       "╞═══════════╪══════════════╪══════════════╡\n",
       "│ null      ┆ pincer-route ┆ 39.02        │\n",
       "└───────────┴──────────────┴──────────────┘"
      ]
     },
     "execution_count": 4,
     "metadata": {},
     "output_type": "execute_result"
    }
   ],
   "source": [
    "df.filter(pl.col(\"list_guid\").is_null())"
   ]
  }
 ],
 "metadata": {
  "kernelspec": {
   "display_name": "sandbox-3A4Qvb5F-py3.12",
   "language": "python",
   "name": "python3"
  },
  "language_info": {
   "codemirror_mode": {
    "name": "ipython",
    "version": 3
   },
   "file_extension": ".py",
   "mimetype": "text/x-python",
   "name": "python",
   "nbconvert_exporter": "python",
   "pygments_lexer": "ipython3",
   "version": "3.12.1"
  }
 },
 "nbformat": 4,
 "nbformat_minor": 2
}
