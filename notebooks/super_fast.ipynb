{
 "cells": [
  {
   "cell_type": "code",
   "execution_count": 3,
   "metadata": {},
   "outputs": [
    {
     "data": {
      "text/plain": [
       "<Response [200 OK]>"
      ]
     },
     "execution_count": 3,
     "metadata": {},
     "output_type": "execute_result"
    }
   ],
   "source": [
    "from notebooks import client\n",
    "\n",
    "body = {\n",
    "    \"apples\": 420,\n",
    "    \"carrots\": 69,\n",
    "    \"memes\": {\n",
    "        \"funny_cat\": \"https://imgur.com/3f83fjjf38jf\",\n",
    "        \"funny_dog\": \"https://imgur.com/df3f89u3fu8f\",\n",
    "    },\n",
    "}\n",
    "\n",
    "\n",
    "res = await client.post(\"/super-fast\", json=body)\n",
    "res"
   ]
  },
  {
   "cell_type": "code",
   "execution_count": 4,
   "metadata": {},
   "outputs": [
    {
     "data": {
      "text/html": [
       "<div><style>\n",
       ".dataframe > thead > tr,\n",
       ".dataframe > tbody > tr {\n",
       "  text-align: right;\n",
       "  white-space: pre-wrap;\n",
       "}\n",
       "</style>\n",
       "<small>shape: (3, 3)</small><table border=\"1\" class=\"dataframe\"><thead><tr><th>lint</th><th>id</th><th>towers</th></tr><tr><td>i64</td><td>i64</td><td>i64</td></tr></thead><tbody><tr><td>34</td><td>69</td><td>2</td></tr><tr><td>3434</td><td>907842</td><td>8</td></tr><tr><td>null</td><td>3938478937</td><td>3</td></tr></tbody></table></div>"
      ],
      "text/plain": [
       "shape: (3, 3)\n",
       "┌──────┬────────────┬────────┐\n",
       "│ lint ┆ id         ┆ towers │\n",
       "│ ---  ┆ ---        ┆ ---    │\n",
       "│ i64  ┆ i64        ┆ i64    │\n",
       "╞══════╪════════════╪════════╡\n",
       "│ 34   ┆ 69         ┆ 2      │\n",
       "│ 3434 ┆ 907842     ┆ 8      │\n",
       "│ null ┆ 3938478937 ┆ 3      │\n",
       "└──────┴────────────┴────────┘"
      ]
     },
     "execution_count": 4,
     "metadata": {},
     "output_type": "execute_result"
    }
   ],
   "source": [
    "import polars as pl\n",
    "\n",
    "res_json = res.json()\n",
    "\n",
    "df = pl.DataFrame(res_json[\"data\"])\n",
    "df"
   ]
  }
 ],
 "metadata": {
  "kernelspec": {
   "display_name": "sandbox-3A4Qvb5F-py3.12",
   "language": "python",
   "name": "python3"
  },
  "language_info": {
   "codemirror_mode": {
    "name": "ipython",
    "version": 3
   },
   "file_extension": ".py",
   "mimetype": "text/x-python",
   "name": "python",
   "nbconvert_exporter": "python",
   "pygments_lexer": "ipython3",
   "version": "3.12.1"
  }
 },
 "nbformat": 4,
 "nbformat_minor": 2
}
