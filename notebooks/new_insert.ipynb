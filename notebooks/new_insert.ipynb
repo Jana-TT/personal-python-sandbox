{
 "cells": [
  {
   "cell_type": "code",
   "execution_count": 1,
   "metadata": {},
   "outputs": [],
   "source": [
    "from api.db import db\n",
    "\n",
    "await db.init()"
   ]
  },
  {
   "cell_type": "code",
   "execution_count": 6,
   "metadata": {},
   "outputs": [],
   "source": [
    "import polars as pl\n",
    "\n",
    "items = pl.read_csv(\"../db/csvs/item.csv\")\n",
    "\n",
    "await db.insert(items, \"item\", pkey_cols={\"id\"})"
   ]
  },
  {
   "cell_type": "code",
   "execution_count": 7,
   "metadata": {},
   "outputs": [
    {
     "data": {
      "text/html": [
       "<div><style>\n",
       ".dataframe > thead > tr,\n",
       ".dataframe > tbody > tr {\n",
       "  text-align: right;\n",
       "  white-space: pre-wrap;\n",
       "}\n",
       "</style>\n",
       "<small>shape: (7, 3)</small><table border=\"1\" class=\"dataframe\"><thead><tr><th>id</th><th>name</th><th>price</th></tr><tr><td>i64</td><td>str</td><td>decimal[*,2]</td></tr></thead><tbody><tr><td>1965488</td><td>&quot;onion&quot;</td><td>2.99</td></tr><tr><td>1870644</td><td>&quot;bbq&quot;</td><td>6.99</td></tr><tr><td>69420</td><td>&quot;condoms&quot;</td><td>69.42</td></tr><tr><td>696969</td><td>&quot;weed&quot;</td><td>4.20</td></tr><tr><td>6334</td><td>&quot;beans&quot;</td><td>69.99</td></tr><tr><td>34893</td><td>&quot;chalk&quot;</td><td>8.99</td></tr><tr><td>22334</td><td>&quot;poop&quot;</td><td>100.99</td></tr></tbody></table></div>"
      ],
      "text/plain": [
       "shape: (7, 3)\n",
       "┌─────────┬─────────┬──────────────┐\n",
       "│ id      ┆ name    ┆ price        │\n",
       "│ ---     ┆ ---     ┆ ---          │\n",
       "│ i64     ┆ str     ┆ decimal[*,2] │\n",
       "╞═════════╪═════════╪══════════════╡\n",
       "│ 1965488 ┆ onion   ┆ 2.99         │\n",
       "│ 1870644 ┆ bbq     ┆ 6.99         │\n",
       "│ 69420   ┆ condoms ┆ 69.42        │\n",
       "│ 696969  ┆ weed    ┆ 4.20         │\n",
       "│ 6334    ┆ beans   ┆ 69.99        │\n",
       "│ 34893   ┆ chalk   ┆ 8.99         │\n",
       "│ 22334   ┆ poop    ┆ 100.99       │\n",
       "└─────────┴─────────┴──────────────┘"
      ]
     },
     "execution_count": 7,
     "metadata": {},
     "output_type": "execute_result"
    }
   ],
   "source": [
    "await db.fetch(\"SELECT * FROM item LIMIT 10\")"
   ]
  }
 ],
 "metadata": {
  "kernelspec": {
   "display_name": "sandbox-iEFdomZc-py3.12",
   "language": "python",
   "name": "python3"
  },
  "language_info": {
   "codemirror_mode": {
    "name": "ipython",
    "version": 3
   },
   "file_extension": ".py",
   "mimetype": "text/x-python",
   "name": "python",
   "nbconvert_exporter": "python",
   "pygments_lexer": "ipython3",
   "version": "3.12.1"
  }
 },
 "nbformat": 4,
 "nbformat_minor": 2
}
