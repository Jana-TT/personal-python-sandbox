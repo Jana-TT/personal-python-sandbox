{
 "cells": [
  {
   "cell_type": "code",
   "execution_count": 1,
   "metadata": {},
   "outputs": [],
   "source": [
    "from api.db import db\n",
    "\n",
    "await db.init()"
   ]
  },
  {
   "cell_type": "code",
   "execution_count": 4,
   "metadata": {},
   "outputs": [
    {
     "name": "stdout",
     "output_type": "stream",
     "text": [
      "shape: (4, 3)\n",
      "┌─────────┬──────────────┬──────────────┐\n",
      "│ id      ┆ multiplier   ┆ required_amt │\n",
      "│ ---     ┆ ---          ┆ ---          │\n",
      "│ i64     ┆ decimal[*,2] ┆ i64          │\n",
      "╞═════════╪══════════════╪══════════════╡\n",
      "│ 1870644 ┆ 0.50         ┆ 2            │\n",
      "│ 1965488 ┆ 0.20         ┆ 4            │\n",
      "│ 22334   ┆ 0.60         ┆ 10           │\n",
      "│ 69420   ┆ 0.10         ┆ 3            │\n",
      "└─────────┴──────────────┴──────────────┘\n"
     ]
    }
   ],
   "source": [
    "res = await db.fetch(\"SELECT * FROM discount\")\n",
    "print(res)"
   ]
  },
  {
   "cell_type": "code",
   "execution_count": 13,
   "metadata": {},
   "outputs": [
    {
     "name": "stdout",
     "output_type": "stream",
     "text": [
      "shape: (1, 1)\n",
      "┌──────────┐\n",
      "│ item_id  │\n",
      "│ ---      │\n",
      "│ i64      │\n",
      "╞══════════╡\n",
      "│ 98333829 │\n",
      "└──────────┘\n"
     ]
    }
   ],
   "source": [
    "import polars as pl\n",
    "\n",
    "# items = pl.read_csv(\"../db/csvs/item.csv\")\n",
    "items_to_insert = pl.DataFrame(\n",
    "    {\n",
    "        \"item_id\": [98333829],\n",
    "        \"list_id\": [666],\n",
    "        \"quantity\": [30],\n",
    "    }\n",
    ")\n",
    "\n",
    "res = await db.insert(items_to_insert, \"item_in_list\", return_cols={\"item_id\"})\n",
    "print(res)"
   ]
  },
  {
   "cell_type": "code",
   "execution_count": 6,
   "metadata": {},
   "outputs": [
    {
     "name": "stdout",
     "output_type": "stream",
     "text": [
      "shape: (3, 1)\n",
      "┌────────┐\n",
      "│ id     │\n",
      "│ ---    │\n",
      "│ i64    │\n",
      "╞════════╡\n",
      "│ 394789 │\n",
      "│ 3483   │\n",
      "│ 39     │\n",
      "└────────┘\n"
     ]
    }
   ],
   "source": [
    "res = await db.insert(items_to_insert, \"item\", pkey_cols={\"id\"}, return_cols={\"id\"})\n",
    "print(res)"
   ]
  },
  {
   "cell_type": "code",
   "execution_count": 11,
   "metadata": {},
   "outputs": [
    {
     "name": "stdout",
     "output_type": "stream",
     "text": [
      "shape: (4, 1)\n",
      "┌────────┐\n",
      "│ id     │\n",
      "│ ---    │\n",
      "│ i64    │\n",
      "╞════════╡\n",
      "│ 112233 │\n",
      "│ 394789 │\n",
      "│ 3483   │\n",
      "│ 39     │\n",
      "└────────┘\n"
     ]
    }
   ],
   "source": [
    "res = await db.fetch(\n",
    "    \"DELETE FROM item WHERE id = ANY(:ids) RETURNING id\", ids=[112233,394789,3483,39]\n",
    ")\n",
    "print(res)"
   ]
  },
  {
   "cell_type": "code",
   "execution_count": 5,
   "metadata": {},
   "outputs": [
    {
     "name": "stdout",
     "output_type": "stream",
     "text": [
      "shape: (2, 3)\n",
      "┌────────┬─────────┬──────────────┐\n",
      "│ id     ┆ name    ┆ price        │\n",
      "│ ---    ┆ ---     ┆ ---          │\n",
      "│ i64    ┆ str     ┆ decimal[*,2] │\n",
      "╞════════╪═════════╪══════════════╡\n",
      "│ 348374 ┆ yogurt  ┆ 3.99         │\n",
      "│ 83473  ┆ pumpkin ┆ 12.99        │\n",
      "└────────┴─────────┴──────────────┘\n"
     ]
    }
   ],
   "source": [
    "res = await db.fetch(\n",
    "    \"SELECT * FROM item WHERE id = ANY(:ids) ORDER BY price LIMIT 10\",\n",
    "    ids=[83473, 348374],\n",
    ")\n",
    "print(res)"
   ]
  },
  {
   "cell_type": "code",
   "execution_count": 14,
   "metadata": {},
   "outputs": [
    {
     "data": {
      "text/html": [
       "<div><style>\n",
       ".dataframe > thead > tr,\n",
       ".dataframe > tbody > tr {\n",
       "  text-align: right;\n",
       "  white-space: pre-wrap;\n",
       "}\n",
       "</style>\n",
       "<small>shape: (5, 3)</small><table border=\"1\" class=\"dataframe\"><thead><tr><th>id</th><th>name</th><th>price</th></tr><tr><td>i64</td><td>str</td><td>decimal[*,2]</td></tr></thead><tbody><tr><td>1965488</td><td>&quot;onion&quot;</td><td>2.99</td></tr><tr><td>348374</td><td>&quot;yogurt&quot;</td><td>3.99</td></tr><tr><td>1870644</td><td>&quot;bbq&quot;</td><td>6.99</td></tr><tr><td>83473</td><td>&quot;pumpkin&quot;</td><td>12.99</td></tr><tr><td>6334</td><td>&quot;beans&quot;</td><td>69.99</td></tr></tbody></table></div>"
      ],
      "text/plain": [
       "shape: (5, 3)\n",
       "┌─────────┬─────────┬──────────────┐\n",
       "│ id      ┆ name    ┆ price        │\n",
       "│ ---     ┆ ---     ┆ ---          │\n",
       "│ i64     ┆ str     ┆ decimal[*,2] │\n",
       "╞═════════╪═════════╪══════════════╡\n",
       "│ 1965488 ┆ onion   ┆ 2.99         │\n",
       "│ 348374  ┆ yogurt  ┆ 3.99         │\n",
       "│ 1870644 ┆ bbq     ┆ 6.99         │\n",
       "│ 83473   ┆ pumpkin ┆ 12.99        │\n",
       "│ 6334    ┆ beans   ┆ 69.99        │\n",
       "└─────────┴─────────┴──────────────┘"
      ]
     },
     "execution_count": 14,
     "metadata": {},
     "output_type": "execute_result"
    }
   ],
   "source": [
    "ids = pl.Series(\"id\", [83473, 348374])\n",
    "names = pl.Series(\"name\", [\"onion\", \"bbq\", \"beans\"])\n",
    "attr_dict = {\"ids\": ids, \"names\": names}\n",
    "\n",
    "query = \"\"\"--sql\n",
    "    SELECT * \n",
    "    FROM item \n",
    "    WHERE \n",
    "        id = ANY(:ids) OR\n",
    "        name = ANY(:names) \n",
    "    ORDER BY price \n",
    "    LIMIT 10\n",
    "    \"\"\"\n",
    "\n",
    "await db.fetch(\n",
    "    query,\n",
    "    **attr_dict,\n",
    ")"
   ]
  }
 ],
 "metadata": {
  "kernelspec": {
   "display_name": "sandbox-iEFdomZc-py3.12",
   "language": "python",
   "name": "python3"
  },
  "language_info": {
   "codemirror_mode": {
    "name": "ipython",
    "version": 3
   },
   "file_extension": ".py",
   "mimetype": "text/x-python",
   "name": "python",
   "nbconvert_exporter": "python",
   "pygments_lexer": "ipython3",
   "version": "3.12.1"
  }
 },
 "nbformat": 4,
 "nbformat_minor": 2
}
