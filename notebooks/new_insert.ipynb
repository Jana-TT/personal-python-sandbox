{
 "cells": [
  {
   "cell_type": "code",
   "execution_count": 1,
   "metadata": {},
   "outputs": [],
   "source": [
    "from api.db import db\n",
    "\n",
    "await db.init()"
   ]
  },
  {
   "cell_type": "code",
   "execution_count": 2,
   "metadata": {},
   "outputs": [],
   "source": [
    "import polars as pl\n",
    "\n",
    "items = pl.read_csv(\"../db/csvs/item.csv\")\n",
    "\n",
    "await db.insert(items, \"item\", pkey_cols={\"id\"}, return_cols={\"id\"})"
   ]
  },
  {
   "cell_type": "code",
   "execution_count": 5,
   "metadata": {},
   "outputs": [
    {
     "name": "stdout",
     "output_type": "stream",
     "text": [
      "shape: (2, 3)\n",
      "┌────────┬─────────┬──────────────┐\n",
      "│ id     ┆ name    ┆ price        │\n",
      "│ ---    ┆ ---     ┆ ---          │\n",
      "│ i64    ┆ str     ┆ decimal[*,2] │\n",
      "╞════════╪═════════╪══════════════╡\n",
      "│ 348374 ┆ yogurt  ┆ 3.99         │\n",
      "│ 83473  ┆ pumpkin ┆ 12.99        │\n",
      "└────────┴─────────┴──────────────┘\n"
     ]
    }
   ],
   "source": [
    "res = await db.fetch(\n",
    "    \"SELECT * FROM item WHERE id = ANY(:ids) ORDER BY price LIMIT 10\",\n",
    "    ids=[83473, 348374],\n",
    ")\n",
    "print(res)"
   ]
  },
  {
   "cell_type": "code",
   "execution_count": 8,
   "metadata": {},
   "outputs": [
    {
     "data": {
      "text/html": [
       "<div><style>\n",
       ".dataframe > thead > tr,\n",
       ".dataframe > tbody > tr {\n",
       "  text-align: right;\n",
       "  white-space: pre-wrap;\n",
       "}\n",
       "</style>\n",
       "<small>shape: (5, 3)</small><table border=\"1\" class=\"dataframe\"><thead><tr><th>id</th><th>name</th><th>price</th></tr><tr><td>i64</td><td>str</td><td>decimal[*,2]</td></tr></thead><tbody><tr><td>1965488</td><td>&quot;onion&quot;</td><td>2.99</td></tr><tr><td>348374</td><td>&quot;yogurt&quot;</td><td>3.99</td></tr><tr><td>1870644</td><td>&quot;bbq&quot;</td><td>6.99</td></tr><tr><td>83473</td><td>&quot;pumpkin&quot;</td><td>12.99</td></tr><tr><td>6334</td><td>&quot;beans&quot;</td><td>69.99</td></tr></tbody></table></div>"
      ],
      "text/plain": [
       "shape: (5, 3)\n",
       "┌─────────┬─────────┬──────────────┐\n",
       "│ id      ┆ name    ┆ price        │\n",
       "│ ---     ┆ ---     ┆ ---          │\n",
       "│ i64     ┆ str     ┆ decimal[*,2] │\n",
       "╞═════════╪═════════╪══════════════╡\n",
       "│ 1965488 ┆ onion   ┆ 2.99         │\n",
       "│ 348374  ┆ yogurt  ┆ 3.99         │\n",
       "│ 1870644 ┆ bbq     ┆ 6.99         │\n",
       "│ 83473   ┆ pumpkin ┆ 12.99        │\n",
       "│ 6334    ┆ beans   ┆ 69.99        │\n",
       "└─────────┴─────────┴──────────────┘"
      ]
     },
     "execution_count": 8,
     "metadata": {},
     "output_type": "execute_result"
    }
   ],
   "source": [
    "ids = pl.Series(\"id\", [83473, 348374])\n",
    "names = pl.Series(\"name\", [\"onion\", \"bbq\", \"beans\"])\n",
    "attr_dict = {\"ids\": ids, \"names\": names}\n",
    "\n",
    "query = \"\"\"--sql\n",
    "    SELECT * \n",
    "    FROM item \n",
    "    WHERE \n",
    "        id = ANY(:ids) OR\n",
    "        name = ANY(:names) \n",
    "    ORDER BY price \n",
    "    LIMIT 10\n",
    "    \"\"\"\n",
    "\n",
    "await db.fetch(\n",
    "    query,\n",
    "    **attr_dict,\n",
    ")"
   ]
  }
 ],
 "metadata": {
  "kernelspec": {
   "display_name": "sandbox-iEFdomZc-py3.12",
   "language": "python",
   "name": "python3"
  },
  "language_info": {
   "codemirror_mode": {
    "name": "ipython",
    "version": 3
   },
   "file_extension": ".py",
   "mimetype": "text/x-python",
   "name": "python",
   "nbconvert_exporter": "python",
   "pygments_lexer": "ipython3",
   "version": "3.12.1"
  }
 },
 "nbformat": 4,
 "nbformat_minor": 2
}
